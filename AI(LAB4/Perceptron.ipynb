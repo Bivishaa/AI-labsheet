{
  "nbformat": 4,
  "nbformat_minor": 0,
  "metadata": {
    "colab": {
      "provenance": [],
      "authorship_tag": "ABX9TyMHUIfHDyp4RYmTYT4+pQ1T"
    },
    "kernelspec": {
      "name": "python3",
      "display_name": "Python 3"
    },
    "language_info": {
      "name": "python"
    }
  },
  "cells": [
    {
      "cell_type": "code",
      "source": [
        "import numpy as np\n",
        "\n",
        "class Perceptron:\n",
        "    def __init__(self, learning_rate=0.01, epochs=1000):\n",
        "        self.learning_rate = learning_rate\n",
        "        self.epochs = epochs\n",
        "        self.weights = None\n",
        "        self.bias = None\n",
        "\n",
        "    def fit(self, X, y):\n",
        "        # Initialize weights and bias\n",
        "        n_samples, n_features = X.shape\n",
        "        self.weights = np.zeros(n_features)\n",
        "        self.bias = 0\n",
        "\n",
        "        # Training loop\n",
        "        for epoch in range(self.epochs):\n",
        "            for idx, x_i in enumerate(X):\n",
        "                # Compute the linear combination\n",
        "                linear_output = np.dot(x_i, self.weights) + self.bias\n",
        "                # Apply step function\n",
        "                y_pred = self._activation_function(linear_output)\n",
        "\n",
        "                # Perceptron rule: update weights and bias if prediction is incorrect\n",
        "                update = self.learning_rate * (y[idx] - y_pred)\n",
        "                self.weights += update * x_i\n",
        "                self.bias += update\n",
        "\n",
        "    def predict(self, X):\n",
        "        # Compute predictions for given inputs\n",
        "        linear_output = np.dot(X, self.weights) + self.bias\n",
        "        return self._activation_function(linear_output)\n",
        "\n",
        "    def _activation_function(self, x):\n",
        "        # Step function\n",
        "        return np.where(x >= 0, 1, 0)\n"
      ],
      "metadata": {
        "id": "sdVTMsAeUtTx"
      },
      "execution_count": 11,
      "outputs": []
    },
    {
      "cell_type": "code",
      "source": [
        "# Example Usage for Different Gates\n",
        "if __name__ == \"__main__\":\n",
        "    # AND Gate\n",
        "    X_and = np.array([[0, 0], [0, 1], [1, 0], [1, 1]])\n",
        "    y_and = np.array([0, 0, 0, 1])\n",
        "    perceptron_and = Perceptron(learning_rate=0.1, epochs=10)\n",
        "    perceptron_and.fit(X_and, y_and)\n",
        "    print(\"AND Gate Predictions:\", perceptron_and.predict(X_and))"
      ],
      "metadata": {
        "colab": {
          "base_uri": "https://localhost:8080/"
        },
        "id": "QJLEIKz7UvPu",
        "outputId": "a654be8b-3fc1-4902-8f93-c7e22df49f84"
      },
      "execution_count": 12,
      "outputs": [
        {
          "output_type": "stream",
          "name": "stdout",
          "text": [
            "AND Gate Predictions: [0 0 0 1]\n"
          ]
        }
      ]
    },
    {
      "cell_type": "code",
      "source": [
        "# OR Gate\n",
        "X_or = np.array([[0, 0], [0, 1], [1, 0], [1, 1]])\n",
        "y_or = np.array([0, 1, 1, 1])\n",
        "perceptron_or = Perceptron(learning_rate=0.1, epochs=10)\n",
        "perceptron_or.fit(X_or, y_or)\n",
        "print(\"OR Gate Predictions:\", perceptron_or.predict(X_or))"
      ],
      "metadata": {
        "colab": {
          "base_uri": "https://localhost:8080/"
        },
        "id": "hUfW6NzPUxyc",
        "outputId": "3bf7fa55-1d5b-4d9f-aee3-c4dbacd12740"
      },
      "execution_count": 13,
      "outputs": [
        {
          "output_type": "stream",
          "name": "stdout",
          "text": [
            "OR Gate Predictions: [0 1 1 1]\n"
          ]
        }
      ]
    },
    {
      "cell_type": "code",
      "source": [
        "   # XOR Gate (Cannot be solved by a single-layer perceptron)\n",
        "X_xor = np.array([[0, 0], [0, 1], [1, 0], [1, 1]])\n",
        "y_xor = np.array([0, 1, 1, 0])\n",
        "perceptron_xor = Perceptron(learning_rate=0.1, epochs=10)\n",
        "perceptron_xor.fit(X_xor, y_xor)\n",
        "print(\"XOR Gate Predictions:\", perceptron_xor.predict(X_xor))"
      ],
      "metadata": {
        "colab": {
          "base_uri": "https://localhost:8080/"
        },
        "id": "P80iAcWEUzj_",
        "outputId": "34051207-badf-4592-dced-68712876c9be"
      },
      "execution_count": 15,
      "outputs": [
        {
          "output_type": "stream",
          "name": "stdout",
          "text": [
            "XOR Gate Predictions: [1 1 0 0]\n"
          ]
        }
      ]
    },
    {
      "cell_type": "code",
      "source": [
        "       # NOT Gate\n",
        "X_not = np.array([[0], [1]])\n",
        "y_not = np.array([1, 0])\n",
        "perceptron_not = Perceptron(learning_rate=0.1, epochs=10)\n",
        "perceptron_not.fit(X_not, y_not)\n",
        "print(\"NOT Gate Predictions:\", perceptron_not.predict(X_not))"
      ],
      "metadata": {
        "colab": {
          "base_uri": "https://localhost:8080/"
        },
        "id": "hxHlI26lVbGO",
        "outputId": "24cf0ca1-123f-4d2d-a8a2-383a4b9f1e85"
      },
      "execution_count": 16,
      "outputs": [
        {
          "output_type": "stream",
          "name": "stdout",
          "text": [
            "NOT Gate Predictions: [1 0]\n"
          ]
        }
      ]
    }
  ]
}
