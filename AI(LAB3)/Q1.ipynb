{
 "cells": [
  {
   "cell_type": "code",
   "execution_count": 5,
   "metadata": {},
   "outputs": [],
   "source": [
    "import random"
   ]
  },
  {
   "cell_type": "code",
   "execution_count": 6,
   "metadata": {},
   "outputs": [],
   "source": [
    "class VacuumCleanerAgent:\n",
    "    def __init__(self, grid_size):\n",
    "        self.grid_size = grid_size\n",
    "        self.environment = [[random.choice(['0', '1']) for _ in range(grid_size)] for _ in range(grid_size)]\n",
    "        self.position = (0, 0)  # Start at the top-left corner\n",
    "        self.cleaned_cells = 0\n",
    "\n",
    "    def display_environment(self):\n",
    "        print(\"Environment:\")\n",
    "        for row in self.environment:\n",
    "            print(row)\n",
    "        print(f\"Vacuum Position: {self.position}\")\n",
    "        print(f\"Cleaned Cells: {self.cleaned_cells}\\n\")\n",
    "\n",
    "    def sense_and_act(self):\n",
    "        x, y = self.position\n",
    "        if self.environment[x][y] == '1':\n",
    "            print(f\"Cleaning cell ({x}, {y})...\")\n",
    "            self.environment[x][y] = '0'\n",
    "            self.cleaned_cells += 1\n",
    "        else:\n",
    "            print(f\"Cell ({x}, {y}) is already clean.\")\n",
    "\n",
    "    def move(self):\n",
    "        x, y = self.position\n",
    "        if y + 1 < self.grid_size:\n",
    "            self.position = (x, y + 1)  # Move right\n",
    "        elif x + 1 < self.grid_size:\n",
    "            self.position = (x + 1, 0)  # Move to the next row\n",
    "        else:\n",
    "            self.position = None  # End of the grid\n",
    "\n",
    "    def is_grid_clean(self):\n",
    "        return all(cell == '0' for row in self.environment for cell in row)\n",
    "\n",
    "    def run(self):\n",
    "        print(\"Starting Vacuum Cleaner Agent...\\n\")\n",
    "        while not self.is_grid_clean():\n",
    "            if self.position is None:  # Reset position to traverse again\n",
    "                self.position = (0, 0)\n",
    "            self.display_environment()\n",
    "            self.sense_and_act()\n",
    "            self.move()\n",
    "        print(\"All cells are clean!\")\n",
    "        \n",
    "        print(\"\\nFinal Cleaned Environment:\")\n",
    "        for row in self.environment:\n",
    "            print(row)\n"
   ]
  },
  {
   "cell_type": "code",
   "execution_count": 9,
   "metadata": {},
   "outputs": [
    {
     "name": "stdout",
     "output_type": "stream",
     "text": [
      "Starting Vacuum Cleaner Agent...\n",
      "\n",
      "Environment:\n",
      "['0', '1']\n",
      "['1', '0']\n",
      "Vacuum Position: (0, 0)\n",
      "Cleaned Cells: 0\n",
      "\n",
      "Cell (0, 0) is already clean.\n",
      "Environment:\n",
      "['0', '1']\n",
      "['1', '0']\n",
      "Vacuum Position: (0, 1)\n",
      "Cleaned Cells: 0\n",
      "\n",
      "Cleaning cell (0, 1)...\n",
      "Environment:\n",
      "['0', '0']\n",
      "['1', '0']\n",
      "Vacuum Position: (1, 0)\n",
      "Cleaned Cells: 1\n",
      "\n",
      "Cleaning cell (1, 0)...\n",
      "All cells are clean!\n",
      "\n",
      "Final Cleaned Environment:\n",
      "['0', '0']\n",
      "['0', '0']\n"
     ]
    }
   ],
   "source": [
    "grid_size = 2\n",
    "agent = VacuumCleanerAgent(grid_size)\n",
    "agent.run()"
   ]
  }
 ],
 "metadata": {
  "kernelspec": {
   "display_name": "Python 3",
   "language": "python",
   "name": "python3"
  },
  "language_info": {
   "codemirror_mode": {
    "name": "ipython",
    "version": 3
   },
   "file_extension": ".py",
   "mimetype": "text/x-python",
   "name": "python",
   "nbconvert_exporter": "python",
   "pygments_lexer": "ipython3",
   "version": "3.12.8"
  }
 },
 "nbformat": 4,
 "nbformat_minor": 2
}
